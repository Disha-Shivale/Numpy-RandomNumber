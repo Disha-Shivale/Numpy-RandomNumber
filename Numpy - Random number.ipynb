{
 "cells": [
  {
   "cell_type": "code",
   "execution_count": 1,
   "metadata": {},
   "outputs": [
    {
     "name": "stdout",
     "output_type": "stream",
     "text": [
      "2\n"
     ]
    }
   ],
   "source": [
    "#Integer Number\n",
    "from numpy import random\n",
    "i = random.randint(10)\n",
    "print(i)"
   ]
  },
  {
   "cell_type": "code",
   "execution_count": 2,
   "metadata": {},
   "outputs": [
    {
     "name": "stdout",
     "output_type": "stream",
     "text": [
      "0.5204868439289158\n"
     ]
    }
   ],
   "source": [
    "#Float Number\n",
    "from numpy import random\n",
    "i = random.rand()\n",
    "print(i)"
   ]
  },
  {
   "cell_type": "code",
   "execution_count": 3,
   "metadata": {},
   "outputs": [
    {
     "name": "stdout",
     "output_type": "stream",
     "text": [
      "[0.44784663 0.88431529 0.95140867 0.06940791 0.84546285 0.8332576\n",
      " 0.59386638 0.067354   0.3707899  0.14147455 0.82550064]\n"
     ]
    }
   ],
   "source": [
    "from numpy import random\n",
    "i = random.rand(11)\n",
    "print(i)"
   ]
  },
  {
   "cell_type": "code",
   "execution_count": 4,
   "metadata": {},
   "outputs": [
    {
     "name": "stdout",
     "output_type": "stream",
     "text": [
      "[53 39 24 41 69 15  0 74 98 24]\n"
     ]
    }
   ],
   "source": [
    "#GENERATE 10 RANDOM INTEGERS FROM 0 TO 100\n",
    "from numpy import random\n",
    "i = random.randint(100, size=(10))\n",
    "print(i)"
   ]
  },
  {
   "cell_type": "code",
   "execution_count": 5,
   "metadata": {},
   "outputs": [
    {
     "name": "stdout",
     "output_type": "stream",
     "text": [
      "[[76 27  2 56 65]\n",
      " [91 88 78 33 68]\n",
      " [53 23 30 40  8]]\n"
     ]
    }
   ],
   "source": [
    "#Generate 2-D array with 3 rows\n",
    "from numpy import random\n",
    "i = random.randint(100, size=(3, 5))\n",
    "print(i)"
   ]
  },
  {
   "cell_type": "code",
   "execution_count": 6,
   "metadata": {},
   "outputs": [
    {
     "name": "stdout",
     "output_type": "stream",
     "text": [
      "[[ 6 14 59 74 34]\n",
      " [63  2 56 61 93]\n",
      " [56 62 36 23 74]\n",
      " [15 19 34 18 75]\n",
      " [70  1  6 87 23]]\n"
     ]
    }
   ],
   "source": [
    "from numpy import random\n",
    "i = random.randint(100, size=(5, 5))\n",
    "print(i)"
   ]
  },
  {
   "cell_type": "code",
   "execution_count": 7,
   "metadata": {},
   "outputs": [
    {
     "name": "stdout",
     "output_type": "stream",
     "text": [
      "[[[73 43]\n",
      "  [99  7]\n",
      "  [47 79]\n",
      "  [99 81]\n",
      "  [85  0]]\n",
      "\n",
      " [[25 66]\n",
      "  [66 30]\n",
      "  [21 79]\n",
      "  [49 79]\n",
      "  [36 28]]\n",
      "\n",
      " [[71 65]\n",
      "  [ 2 54]\n",
      "  [53 48]\n",
      "  [52 43]\n",
      "  [ 6 99]]]\n"
     ]
    }
   ],
   "source": [
    "from numpy import random\n",
    "i = random.randint(100, size=(3, 5, 2))\n",
    "print(i)"
   ]
  },
  {
   "cell_type": "code",
   "execution_count": 8,
   "metadata": {},
   "outputs": [
    {
     "name": "stdout",
     "output_type": "stream",
     "text": [
      "[[0.35302785 0.38595254 0.22928122 0.51490825 0.06256965]\n",
      " [0.46412639 0.69106147 0.97356848 0.99264795 0.63133365]\n",
      " [0.16346354 0.85776124 0.75736702 0.66331018 0.75162786]]\n"
     ]
    }
   ],
   "source": [
    "#Float Number\n",
    "from numpy import random\n",
    "i = random.rand(3, 5)\n",
    "print(i)"
   ]
  },
  {
   "cell_type": "code",
   "execution_count": 10,
   "metadata": {},
   "outputs": [
    {
     "name": "stdout",
     "output_type": "stream",
     "text": [
      "40\n"
     ]
    }
   ],
   "source": [
    "#Choice() Method\n",
    "from numpy import random\n",
    "list1 = [10,20,30,40,50,60,70,80,90]\n",
    "i = random.choice(list1)\n",
    "print(i)"
   ]
  },
  {
   "cell_type": "code",
   "execution_count": 11,
   "metadata": {},
   "outputs": [
    {
     "name": "stdout",
     "output_type": "stream",
     "text": [
      "[[30 10 10 20 50]\n",
      " [40 10 40 40 60]\n",
      " [20 40 30 30 60]]\n"
     ]
    }
   ],
   "source": [
    "#Choice() - size() Method\n",
    "from numpy import random\n",
    "list1 = [10,20,30,40,50,60,70]\n",
    "i = random.choice(list1, size=(3, 5))\n",
    "print(i)"
   ]
  },
  {
   "cell_type": "code",
   "execution_count": 9,
   "metadata": {},
   "outputs": [
    {
     "name": "stdout",
     "output_type": "stream",
     "text": [
      "[[[40 10]\n",
      "  [70 60]\n",
      "  [40 10]\n",
      "  [50 10]\n",
      "  [50 60]]\n",
      "\n",
      " [[10 10]\n",
      "  [40 10]\n",
      "  [10 70]\n",
      "  [60 10]\n",
      "  [70 30]]\n",
      "\n",
      " [[10 20]\n",
      "  [30 30]\n",
      "  [10 60]\n",
      "  [10 20]\n",
      "  [30 30]]]\n"
     ]
    }
   ],
   "source": [
    "from numpy import random\n",
    "list1 = [10,20,30,40,50,60,70]\n",
    "i = random.choice(list1, size=(3, 5, 2))\n",
    "print(i)"
   ]
  },
  {
   "cell_type": "code",
   "execution_count": null,
   "metadata": {},
   "outputs": [],
   "source": []
  }
 ],
 "metadata": {
  "kernelspec": {
   "display_name": "Python 3",
   "language": "python",
   "name": "python3"
  },
  "language_info": {
   "codemirror_mode": {
    "name": "ipython",
    "version": 3
   },
   "file_extension": ".py",
   "mimetype": "text/x-python",
   "name": "python",
   "nbconvert_exporter": "python",
   "pygments_lexer": "ipython3",
   "version": "3.8.5"
  }
 },
 "nbformat": 4,
 "nbformat_minor": 4
}
